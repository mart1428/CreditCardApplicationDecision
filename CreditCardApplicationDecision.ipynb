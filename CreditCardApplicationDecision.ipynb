{
  "nbformat": 4,
  "nbformat_minor": 0,
  "metadata": {
    "colab": {
      "provenance": [],
      "authorship_tag": "ABX9TyPpZRmObSGwJMDNV8MP3vD2",
      "include_colab_link": true
    },
    "kernelspec": {
      "name": "python3",
      "display_name": "Python 3"
    },
    "language_info": {
      "name": "python"
    }
  },
  "cells": [
    {
      "cell_type": "markdown",
      "metadata": {
        "id": "view-in-github",
        "colab_type": "text"
      },
      "source": [
        "<a href=\"https://colab.research.google.com/github/mart1428/CreditCardApplicationDecision/blob/main/CreditCardApplicationDecision.ipynb\" target=\"_parent\"><img src=\"https://colab.research.google.com/assets/colab-badge.svg\" alt=\"Open In Colab\"/></a>"
      ]
    },
    {
      "cell_type": "code",
      "source": [
        "import pandas as pd\n",
        "import numpy as np\n",
        "import sklearn\n",
        "from sklearn.impute import SimpleImputer\n",
        "from sklearn.preprocessing import OrdinalEncoder\n",
        "\n",
        "import seaborn as sns\n",
        "import matplotlib.pyplot as plt\n",
        "\n",
        "from sklearn import tree"
      ],
      "metadata": {
        "id": "EIahYgrwmCz7"
      },
      "execution_count": 199,
      "outputs": []
    },
    {
      "cell_type": "code",
      "execution_count": 97,
      "metadata": {
        "id": "jz5DMyb6kqJj"
      },
      "outputs": [],
      "source": [
        "label_link = \"https://docs.google.com/uc?export=download&id=1LKBLmwmyWJc1n8GBX5ZKu0yo7sZDmHjg\"\n",
        "data_link = \"https://docs.google.com/uc?export=download&id=1A3Rs4JWB7evyPhptTsbcJmFcMm4gVwGR\"\n",
        "\n",
        "labels = pd.read_csv(label_link)\n",
        "data = pd.read_csv(data_link)\n",
        "\n",
        "# labels.set_index('Ind_ID')\n",
        "# data.set_index('Ind_ID')\n"
      ]
    },
    {
      "cell_type": "markdown",
      "source": [
        "Exploratory Data Analysis"
      ],
      "metadata": {
        "id": "fRI8UocRmam4"
      }
    },
    {
      "cell_type": "code",
      "source": [
        "print(labels.head())\n",
        "print(labels.shape)\n",
        "print(data.head())\n",
        "print(data.shape)"
      ],
      "metadata": {
        "colab": {
          "base_uri": "https://localhost:8080/"
        },
        "id": "RJUI7Ucqlt7c",
        "outputId": "dfd3b8c5-2603-4184-b9ca-78ee3c0b87b2"
      },
      "execution_count": 98,
      "outputs": [
        {
          "output_type": "stream",
          "name": "stdout",
          "text": [
            "    Ind_ID  label\n",
            "0  5008827      1\n",
            "1  5009744      1\n",
            "2  5009746      1\n",
            "3  5009749      1\n",
            "4  5009752      1\n",
            "(1548, 2)\n",
            "    Ind_ID GENDER Car_Owner Propert_Owner  CHILDREN  Annual_income  \\\n",
            "0  5008827      M         Y             Y         0       180000.0   \n",
            "1  5009744      F         Y             N         0       315000.0   \n",
            "2  5009746      F         Y             N         0       315000.0   \n",
            "3  5009749      F         Y             N         0            NaN   \n",
            "4  5009752      F         Y             N         0       315000.0   \n",
            "\n",
            "            Type_Income         EDUCATION Marital_status       Housing_type  \\\n",
            "0             Pensioner  Higher education        Married  House / apartment   \n",
            "1  Commercial associate  Higher education        Married  House / apartment   \n",
            "2  Commercial associate  Higher education        Married  House / apartment   \n",
            "3  Commercial associate  Higher education        Married  House / apartment   \n",
            "4  Commercial associate  Higher education        Married  House / apartment   \n",
            "\n",
            "   Birthday_count  Employed_days  Mobile_phone  Work_Phone  Phone  EMAIL_ID  \\\n",
            "0        -18772.0         365243             1           0      0         0   \n",
            "1        -13557.0           -586             1           1      1         0   \n",
            "2             NaN           -586             1           1      1         0   \n",
            "3        -13557.0           -586             1           1      1         0   \n",
            "4        -13557.0           -586             1           1      1         0   \n",
            "\n",
            "  Type_Occupation  Family_Members  \n",
            "0             NaN               2  \n",
            "1             NaN               2  \n",
            "2             NaN               2  \n",
            "3             NaN               2  \n",
            "4             NaN               2  \n",
            "(1548, 18)\n"
          ]
        }
      ]
    },
    {
      "cell_type": "code",
      "source": [
        "print(data[['Type_Income']].groupby(['Type_Income']).size(), '\\n')\n",
        "print(data[['GENDER']].groupby(['GENDER']).size(), '\\n')\n",
        "print(data[['Car_Owner']].groupby(['Car_Owner']).size(), '\\n')\n",
        "print(data[['Propert_Owner']].groupby(['Propert_Owner']).size(), '\\n')\n",
        "print(data[['EDUCATION']].groupby(['EDUCATION']).size(), '\\n')\n",
        "print(data[['Marital_status']].groupby(['Marital_status']).size(), '\\n')\n",
        "print(data[['Housing_type']].groupby(['Housing_type']).size(), '\\n')\n",
        "print(data[['EMAIL_ID']].groupby(['EMAIL_ID']).size(), '\\n')\n",
        "print(data[['Type_Occupation']].groupby(['Type_Occupation']).size(), '\\n')\n"
      ],
      "metadata": {
        "colab": {
          "base_uri": "https://localhost:8080/"
        },
        "id": "N6xsrmHLmhZd",
        "outputId": "4570831c-8bdd-445e-e7a2-af52534765ba"
      },
      "execution_count": 99,
      "outputs": [
        {
          "output_type": "stream",
          "name": "stdout",
          "text": [
            "Type_Income\n",
            "Commercial associate    365\n",
            "Pensioner               269\n",
            "State servant           116\n",
            "Working                 798\n",
            "dtype: int64 \n",
            "\n",
            "GENDER\n",
            "F    973\n",
            "M    568\n",
            "dtype: int64 \n",
            "\n",
            "Car_Owner\n",
            "N    924\n",
            "Y    624\n",
            "dtype: int64 \n",
            "\n",
            "Propert_Owner\n",
            "N     538\n",
            "Y    1010\n",
            "dtype: int64 \n",
            "\n",
            "EDUCATION\n",
            "Academic degree                     2\n",
            "Higher education                  426\n",
            "Incomplete higher                  68\n",
            "Lower secondary                    21\n",
            "Secondary / secondary special    1031\n",
            "dtype: int64 \n",
            "\n",
            "Marital_status\n",
            "Civil marriage           101\n",
            "Married                 1049\n",
            "Separated                 96\n",
            "Single / not married     227\n",
            "Widow                     75\n",
            "dtype: int64 \n",
            "\n",
            "Housing_type\n",
            "Co-op apartment           5\n",
            "House / apartment      1380\n",
            "Municipal apartment      53\n",
            "Office apartment          9\n",
            "Rented apartment         21\n",
            "With parents             80\n",
            "dtype: int64 \n",
            "\n",
            "EMAIL_ID\n",
            "0    1405\n",
            "1     143\n",
            "dtype: int64 \n",
            "\n",
            "Type_Occupation\n",
            "Accountants               44\n",
            "Cleaning staff            22\n",
            "Cooking staff             21\n",
            "Core staff               174\n",
            "Drivers                   86\n",
            "HR staff                   3\n",
            "High skill tech staff     65\n",
            "IT staff                   2\n",
            "Laborers                 268\n",
            "Low-skill Laborers         9\n",
            "Managers                 136\n",
            "Medicine staff            50\n",
            "Private service staff     17\n",
            "Realty agents              2\n",
            "Sales staff              122\n",
            "Secretaries                9\n",
            "Security staff            25\n",
            "Waiters/barmen staff       5\n",
            "dtype: int64 \n",
            "\n"
          ]
        }
      ]
    },
    {
      "cell_type": "code",
      "source": [
        "print(data.dtypes)"
      ],
      "metadata": {
        "colab": {
          "base_uri": "https://localhost:8080/"
        },
        "id": "vWtQ0TcPsLe9",
        "outputId": "9feb792d-79ac-44b9-d8e4-84dda2af8377"
      },
      "execution_count": 100,
      "outputs": [
        {
          "output_type": "stream",
          "name": "stdout",
          "text": [
            "Ind_ID               int64\n",
            "GENDER              object\n",
            "Car_Owner           object\n",
            "Propert_Owner       object\n",
            "CHILDREN             int64\n",
            "Annual_income      float64\n",
            "Type_Income         object\n",
            "EDUCATION           object\n",
            "Marital_status      object\n",
            "Housing_type        object\n",
            "Birthday_count     float64\n",
            "Employed_days        int64\n",
            "Mobile_phone         int64\n",
            "Work_Phone           int64\n",
            "Phone                int64\n",
            "EMAIL_ID             int64\n",
            "Type_Occupation     object\n",
            "Family_Members       int64\n",
            "dtype: object\n"
          ]
        }
      ]
    },
    {
      "cell_type": "code",
      "source": [
        "\n",
        "cols = data.columns.to_list()\n",
        "columns_sorted = cols[:1] + cols[2:4] + cols[6:10] + cols[-2:-1] + cols[5:6] + cols[10:12] + cols[16:-2] + cols[-1:]\n",
        "data_sorted = data[columns_sorted]\n",
        "\n",
        "\n",
        "cat_cols = columns_sorted[1:8]\n",
        "num_cols = columns_sorted[8:]\n",
        "print(data_sorted.head())\n",
        "\n",
        "data_sorted.replace('Nan', np.nan, inplace = True)\n",
        "\n",
        "data_sorted[num_cols] = data_sorted[num_cols].apply(lambda x : x.astype(float))\n",
        "print(data_sorted.dtypes)\n",
        "\n"
      ],
      "metadata": {
        "colab": {
          "base_uri": "https://localhost:8080/"
        },
        "id": "N7dsT26PtY4U",
        "outputId": "95d407d9-4ca6-44a7-cdde-ebf9e16321a5"
      },
      "execution_count": 118,
      "outputs": [
        {
          "output_type": "stream",
          "name": "stdout",
          "text": [
            "    Ind_ID Car_Owner Propert_Owner           Type_Income         EDUCATION  \\\n",
            "0  5008827         Y             Y             Pensioner  Higher education   \n",
            "1  5009744         Y             N  Commercial associate  Higher education   \n",
            "2  5009746         Y             N  Commercial associate  Higher education   \n",
            "3  5009749         Y             N  Commercial associate  Higher education   \n",
            "4  5009752         Y             N  Commercial associate  Higher education   \n",
            "\n",
            "  Marital_status       Housing_type Type_Occupation  Annual_income  \\\n",
            "0        Married  House / apartment        Laborers   180000.00000   \n",
            "1        Married  House / apartment        Laborers   315000.00000   \n",
            "2        Married  House / apartment        Laborers   315000.00000   \n",
            "3        Married  House / apartment        Laborers   191399.32623   \n",
            "4        Married  House / apartment        Laborers   315000.00000   \n",
            "\n",
            "   Birthday_count  Employed_days  Family_Members  \n",
            "0   -18772.000000       365243.0             2.0  \n",
            "1   -13557.000000         -586.0             2.0  \n",
            "2   -16040.342071         -586.0             2.0  \n",
            "3   -13557.000000         -586.0             2.0  \n",
            "4   -13557.000000         -586.0             2.0  \n",
            "Ind_ID               int64\n",
            "Car_Owner           object\n",
            "Propert_Owner       object\n",
            "Type_Income         object\n",
            "EDUCATION           object\n",
            "Marital_status      object\n",
            "Housing_type        object\n",
            "Type_Occupation     object\n",
            "Annual_income      float64\n",
            "Birthday_count     float64\n",
            "Employed_days      float64\n",
            "Family_Members     float64\n",
            "dtype: object\n"
          ]
        },
        {
          "output_type": "stream",
          "name": "stderr",
          "text": [
            "<ipython-input-118-b13740824f7c>:10: SettingWithCopyWarning: \n",
            "A value is trying to be set on a copy of a slice from a DataFrame\n",
            "\n",
            "See the caveats in the documentation: https://pandas.pydata.org/pandas-docs/stable/user_guide/indexing.html#returning-a-view-versus-a-copy\n",
            "  data_sorted.replace('Nan', np.nan, inplace = True)\n",
            "<ipython-input-118-b13740824f7c>:12: SettingWithCopyWarning: \n",
            "A value is trying to be set on a copy of a slice from a DataFrame.\n",
            "Try using .loc[row_indexer,col_indexer] = value instead\n",
            "\n",
            "See the caveats in the documentation: https://pandas.pydata.org/pandas-docs/stable/user_guide/indexing.html#returning-a-view-versus-a-copy\n",
            "  data_sorted[num_cols] = data_sorted[num_cols].apply(lambda x : x.astype(float))\n"
          ]
        }
      ]
    },
    {
      "cell_type": "code",
      "source": [
        "numImputer = SimpleImputer(strategy='mean')\n",
        "numImputer.fit(data_sorted[num_cols])\n",
        "data[num_cols] = numImputer.transform(data[num_cols])\n",
        "\n",
        "catImputer = SimpleImputer(strategy = 'most_frequent')\n",
        "catImputer.fit(data_sorted[cat_cols])\n",
        "data[cat_cols] = catImputer.transform(data[cat_cols])\n"
      ],
      "metadata": {
        "id": "7WnZ3tV7x6-A"
      },
      "execution_count": 119,
      "outputs": []
    },
    {
      "cell_type": "code",
      "source": [
        "encoder = OrdinalEncoder()\n",
        "encoder.fit(data_sorted[cat_cols])\n",
        "data_sorted[cat_cols] = encoder.transform(data_sorted[cat_cols])"
      ],
      "metadata": {
        "colab": {
          "base_uri": "https://localhost:8080/"
        },
        "id": "MicGM_nhsQV2",
        "outputId": "b969e608-aa4e-454f-ef10-770d9c608fd8"
      },
      "execution_count": 120,
      "outputs": [
        {
          "output_type": "stream",
          "name": "stderr",
          "text": [
            "<ipython-input-120-1de8cc8608d8>:3: SettingWithCopyWarning: \n",
            "A value is trying to be set on a copy of a slice from a DataFrame.\n",
            "Try using .loc[row_indexer,col_indexer] = value instead\n",
            "\n",
            "See the caveats in the documentation: https://pandas.pydata.org/pandas-docs/stable/user_guide/indexing.html#returning-a-view-versus-a-copy\n",
            "  data_sorted[cat_cols] = encoder.transform(data_sorted[cat_cols])\n"
          ]
        }
      ]
    },
    {
      "cell_type": "code",
      "source": [
        "data_sorted.head()"
      ],
      "metadata": {
        "colab": {
          "base_uri": "https://localhost:8080/",
          "height": 206
        },
        "id": "AC04Hew7zITa",
        "outputId": "67b14bfd-3d3a-44a8-bc51-f372ed920b15"
      },
      "execution_count": 121,
      "outputs": [
        {
          "output_type": "execute_result",
          "data": {
            "text/plain": [
              "    Ind_ID  Car_Owner  Propert_Owner  Type_Income  EDUCATION  Marital_status  \\\n",
              "0  5008827        1.0            1.0          1.0        1.0             1.0   \n",
              "1  5009744        1.0            0.0          0.0        1.0             1.0   \n",
              "2  5009746        1.0            0.0          0.0        1.0             1.0   \n",
              "3  5009749        1.0            0.0          0.0        1.0             1.0   \n",
              "4  5009752        1.0            0.0          0.0        1.0             1.0   \n",
              "\n",
              "   Housing_type  Type_Occupation  Annual_income  Birthday_count  \\\n",
              "0           1.0              8.0   180000.00000   -18772.000000   \n",
              "1           1.0              8.0   315000.00000   -13557.000000   \n",
              "2           1.0              8.0   315000.00000   -16040.342071   \n",
              "3           1.0              8.0   191399.32623   -13557.000000   \n",
              "4           1.0              8.0   315000.00000   -13557.000000   \n",
              "\n",
              "   Employed_days  Family_Members  \n",
              "0       365243.0             2.0  \n",
              "1         -586.0             2.0  \n",
              "2         -586.0             2.0  \n",
              "3         -586.0             2.0  \n",
              "4         -586.0             2.0  "
            ],
            "text/html": [
              "\n",
              "  <div id=\"df-5286d197-5683-4acf-8987-887d18849b5d\" class=\"colab-df-container\">\n",
              "    <div>\n",
              "<style scoped>\n",
              "    .dataframe tbody tr th:only-of-type {\n",
              "        vertical-align: middle;\n",
              "    }\n",
              "\n",
              "    .dataframe tbody tr th {\n",
              "        vertical-align: top;\n",
              "    }\n",
              "\n",
              "    .dataframe thead th {\n",
              "        text-align: right;\n",
              "    }\n",
              "</style>\n",
              "<table border=\"1\" class=\"dataframe\">\n",
              "  <thead>\n",
              "    <tr style=\"text-align: right;\">\n",
              "      <th></th>\n",
              "      <th>Ind_ID</th>\n",
              "      <th>Car_Owner</th>\n",
              "      <th>Propert_Owner</th>\n",
              "      <th>Type_Income</th>\n",
              "      <th>EDUCATION</th>\n",
              "      <th>Marital_status</th>\n",
              "      <th>Housing_type</th>\n",
              "      <th>Type_Occupation</th>\n",
              "      <th>Annual_income</th>\n",
              "      <th>Birthday_count</th>\n",
              "      <th>Employed_days</th>\n",
              "      <th>Family_Members</th>\n",
              "    </tr>\n",
              "  </thead>\n",
              "  <tbody>\n",
              "    <tr>\n",
              "      <th>0</th>\n",
              "      <td>5008827</td>\n",
              "      <td>1.0</td>\n",
              "      <td>1.0</td>\n",
              "      <td>1.0</td>\n",
              "      <td>1.0</td>\n",
              "      <td>1.0</td>\n",
              "      <td>1.0</td>\n",
              "      <td>8.0</td>\n",
              "      <td>180000.00000</td>\n",
              "      <td>-18772.000000</td>\n",
              "      <td>365243.0</td>\n",
              "      <td>2.0</td>\n",
              "    </tr>\n",
              "    <tr>\n",
              "      <th>1</th>\n",
              "      <td>5009744</td>\n",
              "      <td>1.0</td>\n",
              "      <td>0.0</td>\n",
              "      <td>0.0</td>\n",
              "      <td>1.0</td>\n",
              "      <td>1.0</td>\n",
              "      <td>1.0</td>\n",
              "      <td>8.0</td>\n",
              "      <td>315000.00000</td>\n",
              "      <td>-13557.000000</td>\n",
              "      <td>-586.0</td>\n",
              "      <td>2.0</td>\n",
              "    </tr>\n",
              "    <tr>\n",
              "      <th>2</th>\n",
              "      <td>5009746</td>\n",
              "      <td>1.0</td>\n",
              "      <td>0.0</td>\n",
              "      <td>0.0</td>\n",
              "      <td>1.0</td>\n",
              "      <td>1.0</td>\n",
              "      <td>1.0</td>\n",
              "      <td>8.0</td>\n",
              "      <td>315000.00000</td>\n",
              "      <td>-16040.342071</td>\n",
              "      <td>-586.0</td>\n",
              "      <td>2.0</td>\n",
              "    </tr>\n",
              "    <tr>\n",
              "      <th>3</th>\n",
              "      <td>5009749</td>\n",
              "      <td>1.0</td>\n",
              "      <td>0.0</td>\n",
              "      <td>0.0</td>\n",
              "      <td>1.0</td>\n",
              "      <td>1.0</td>\n",
              "      <td>1.0</td>\n",
              "      <td>8.0</td>\n",
              "      <td>191399.32623</td>\n",
              "      <td>-13557.000000</td>\n",
              "      <td>-586.0</td>\n",
              "      <td>2.0</td>\n",
              "    </tr>\n",
              "    <tr>\n",
              "      <th>4</th>\n",
              "      <td>5009752</td>\n",
              "      <td>1.0</td>\n",
              "      <td>0.0</td>\n",
              "      <td>0.0</td>\n",
              "      <td>1.0</td>\n",
              "      <td>1.0</td>\n",
              "      <td>1.0</td>\n",
              "      <td>8.0</td>\n",
              "      <td>315000.00000</td>\n",
              "      <td>-13557.000000</td>\n",
              "      <td>-586.0</td>\n",
              "      <td>2.0</td>\n",
              "    </tr>\n",
              "  </tbody>\n",
              "</table>\n",
              "</div>\n",
              "    <div class=\"colab-df-buttons\">\n",
              "\n",
              "  <div class=\"colab-df-container\">\n",
              "    <button class=\"colab-df-convert\" onclick=\"convertToInteractive('df-5286d197-5683-4acf-8987-887d18849b5d')\"\n",
              "            title=\"Convert this dataframe to an interactive table.\"\n",
              "            style=\"display:none;\">\n",
              "\n",
              "  <svg xmlns=\"http://www.w3.org/2000/svg\" height=\"24px\" viewBox=\"0 -960 960 960\">\n",
              "    <path d=\"M120-120v-720h720v720H120Zm60-500h600v-160H180v160Zm220 220h160v-160H400v160Zm0 220h160v-160H400v160ZM180-400h160v-160H180v160Zm440 0h160v-160H620v160ZM180-180h160v-160H180v160Zm440 0h160v-160H620v160Z\"/>\n",
              "  </svg>\n",
              "    </button>\n",
              "\n",
              "  <style>\n",
              "    .colab-df-container {\n",
              "      display:flex;\n",
              "      gap: 12px;\n",
              "    }\n",
              "\n",
              "    .colab-df-convert {\n",
              "      background-color: #E8F0FE;\n",
              "      border: none;\n",
              "      border-radius: 50%;\n",
              "      cursor: pointer;\n",
              "      display: none;\n",
              "      fill: #1967D2;\n",
              "      height: 32px;\n",
              "      padding: 0 0 0 0;\n",
              "      width: 32px;\n",
              "    }\n",
              "\n",
              "    .colab-df-convert:hover {\n",
              "      background-color: #E2EBFA;\n",
              "      box-shadow: 0px 1px 2px rgba(60, 64, 67, 0.3), 0px 1px 3px 1px rgba(60, 64, 67, 0.15);\n",
              "      fill: #174EA6;\n",
              "    }\n",
              "\n",
              "    .colab-df-buttons div {\n",
              "      margin-bottom: 4px;\n",
              "    }\n",
              "\n",
              "    [theme=dark] .colab-df-convert {\n",
              "      background-color: #3B4455;\n",
              "      fill: #D2E3FC;\n",
              "    }\n",
              "\n",
              "    [theme=dark] .colab-df-convert:hover {\n",
              "      background-color: #434B5C;\n",
              "      box-shadow: 0px 1px 3px 1px rgba(0, 0, 0, 0.15);\n",
              "      filter: drop-shadow(0px 1px 2px rgba(0, 0, 0, 0.3));\n",
              "      fill: #FFFFFF;\n",
              "    }\n",
              "  </style>\n",
              "\n",
              "    <script>\n",
              "      const buttonEl =\n",
              "        document.querySelector('#df-5286d197-5683-4acf-8987-887d18849b5d button.colab-df-convert');\n",
              "      buttonEl.style.display =\n",
              "        google.colab.kernel.accessAllowed ? 'block' : 'none';\n",
              "\n",
              "      async function convertToInteractive(key) {\n",
              "        const element = document.querySelector('#df-5286d197-5683-4acf-8987-887d18849b5d');\n",
              "        const dataTable =\n",
              "          await google.colab.kernel.invokeFunction('convertToInteractive',\n",
              "                                                    [key], {});\n",
              "        if (!dataTable) return;\n",
              "\n",
              "        const docLinkHtml = 'Like what you see? Visit the ' +\n",
              "          '<a target=\"_blank\" href=https://colab.research.google.com/notebooks/data_table.ipynb>data table notebook</a>'\n",
              "          + ' to learn more about interactive tables.';\n",
              "        element.innerHTML = '';\n",
              "        dataTable['output_type'] = 'display_data';\n",
              "        await google.colab.output.renderOutput(dataTable, element);\n",
              "        const docLink = document.createElement('div');\n",
              "        docLink.innerHTML = docLinkHtml;\n",
              "        element.appendChild(docLink);\n",
              "      }\n",
              "    </script>\n",
              "  </div>\n",
              "\n",
              "\n",
              "<div id=\"df-23fc7000-0e23-4299-bc38-b20bb6c58777\">\n",
              "  <button class=\"colab-df-quickchart\" onclick=\"quickchart('df-23fc7000-0e23-4299-bc38-b20bb6c58777')\"\n",
              "            title=\"Suggest charts.\"\n",
              "            style=\"display:none;\">\n",
              "\n",
              "<svg xmlns=\"http://www.w3.org/2000/svg\" height=\"24px\"viewBox=\"0 0 24 24\"\n",
              "     width=\"24px\">\n",
              "    <g>\n",
              "        <path d=\"M19 3H5c-1.1 0-2 .9-2 2v14c0 1.1.9 2 2 2h14c1.1 0 2-.9 2-2V5c0-1.1-.9-2-2-2zM9 17H7v-7h2v7zm4 0h-2V7h2v10zm4 0h-2v-4h2v4z\"/>\n",
              "    </g>\n",
              "</svg>\n",
              "  </button>\n",
              "\n",
              "<style>\n",
              "  .colab-df-quickchart {\n",
              "      --bg-color: #E8F0FE;\n",
              "      --fill-color: #1967D2;\n",
              "      --hover-bg-color: #E2EBFA;\n",
              "      --hover-fill-color: #174EA6;\n",
              "      --disabled-fill-color: #AAA;\n",
              "      --disabled-bg-color: #DDD;\n",
              "  }\n",
              "\n",
              "  [theme=dark] .colab-df-quickchart {\n",
              "      --bg-color: #3B4455;\n",
              "      --fill-color: #D2E3FC;\n",
              "      --hover-bg-color: #434B5C;\n",
              "      --hover-fill-color: #FFFFFF;\n",
              "      --disabled-bg-color: #3B4455;\n",
              "      --disabled-fill-color: #666;\n",
              "  }\n",
              "\n",
              "  .colab-df-quickchart {\n",
              "    background-color: var(--bg-color);\n",
              "    border: none;\n",
              "    border-radius: 50%;\n",
              "    cursor: pointer;\n",
              "    display: none;\n",
              "    fill: var(--fill-color);\n",
              "    height: 32px;\n",
              "    padding: 0;\n",
              "    width: 32px;\n",
              "  }\n",
              "\n",
              "  .colab-df-quickchart:hover {\n",
              "    background-color: var(--hover-bg-color);\n",
              "    box-shadow: 0 1px 2px rgba(60, 64, 67, 0.3), 0 1px 3px 1px rgba(60, 64, 67, 0.15);\n",
              "    fill: var(--button-hover-fill-color);\n",
              "  }\n",
              "\n",
              "  .colab-df-quickchart-complete:disabled,\n",
              "  .colab-df-quickchart-complete:disabled:hover {\n",
              "    background-color: var(--disabled-bg-color);\n",
              "    fill: var(--disabled-fill-color);\n",
              "    box-shadow: none;\n",
              "  }\n",
              "\n",
              "  .colab-df-spinner {\n",
              "    border: 2px solid var(--fill-color);\n",
              "    border-color: transparent;\n",
              "    border-bottom-color: var(--fill-color);\n",
              "    animation:\n",
              "      spin 1s steps(1) infinite;\n",
              "  }\n",
              "\n",
              "  @keyframes spin {\n",
              "    0% {\n",
              "      border-color: transparent;\n",
              "      border-bottom-color: var(--fill-color);\n",
              "      border-left-color: var(--fill-color);\n",
              "    }\n",
              "    20% {\n",
              "      border-color: transparent;\n",
              "      border-left-color: var(--fill-color);\n",
              "      border-top-color: var(--fill-color);\n",
              "    }\n",
              "    30% {\n",
              "      border-color: transparent;\n",
              "      border-left-color: var(--fill-color);\n",
              "      border-top-color: var(--fill-color);\n",
              "      border-right-color: var(--fill-color);\n",
              "    }\n",
              "    40% {\n",
              "      border-color: transparent;\n",
              "      border-right-color: var(--fill-color);\n",
              "      border-top-color: var(--fill-color);\n",
              "    }\n",
              "    60% {\n",
              "      border-color: transparent;\n",
              "      border-right-color: var(--fill-color);\n",
              "    }\n",
              "    80% {\n",
              "      border-color: transparent;\n",
              "      border-right-color: var(--fill-color);\n",
              "      border-bottom-color: var(--fill-color);\n",
              "    }\n",
              "    90% {\n",
              "      border-color: transparent;\n",
              "      border-bottom-color: var(--fill-color);\n",
              "    }\n",
              "  }\n",
              "</style>\n",
              "\n",
              "  <script>\n",
              "    async function quickchart(key) {\n",
              "      const quickchartButtonEl =\n",
              "        document.querySelector('#' + key + ' button');\n",
              "      quickchartButtonEl.disabled = true;  // To prevent multiple clicks.\n",
              "      quickchartButtonEl.classList.add('colab-df-spinner');\n",
              "      try {\n",
              "        const charts = await google.colab.kernel.invokeFunction(\n",
              "            'suggestCharts', [key], {});\n",
              "      } catch (error) {\n",
              "        console.error('Error during call to suggestCharts:', error);\n",
              "      }\n",
              "      quickchartButtonEl.classList.remove('colab-df-spinner');\n",
              "      quickchartButtonEl.classList.add('colab-df-quickchart-complete');\n",
              "    }\n",
              "    (() => {\n",
              "      let quickchartButtonEl =\n",
              "        document.querySelector('#df-23fc7000-0e23-4299-bc38-b20bb6c58777 button');\n",
              "      quickchartButtonEl.style.display =\n",
              "        google.colab.kernel.accessAllowed ? 'block' : 'none';\n",
              "    })();\n",
              "  </script>\n",
              "</div>\n",
              "    </div>\n",
              "  </div>\n"
            ]
          },
          "metadata": {},
          "execution_count": 121
        }
      ]
    },
    {
      "cell_type": "code",
      "source": [
        "corrs = data_sorted.corr()\n",
        "print(corrs)\n",
        "sns.heatmap(corrs, annot = False)"
      ],
      "metadata": {
        "colab": {
          "base_uri": "https://localhost:8080/",
          "height": 1000
        },
        "id": "J3empmCHzde5",
        "outputId": "a523052f-754d-47c6-d997-5775518b4332"
      },
      "execution_count": 132,
      "outputs": [
        {
          "output_type": "stream",
          "name": "stdout",
          "text": [
            "                   Ind_ID  Car_Owner  Propert_Owner  Type_Income  EDUCATION  \\\n",
            "Ind_ID           1.000000  -0.046811      -0.050421     0.026832   0.020761   \n",
            "Car_Owner       -0.046811   1.000000       0.002401     0.033180  -0.131209   \n",
            "Propert_Owner   -0.050421   0.002401       1.000000    -0.057481  -0.018622   \n",
            "Type_Income      0.026832   0.033180      -0.057481     1.000000   0.100511   \n",
            "EDUCATION        0.020761  -0.131209      -0.018622     0.100511   1.000000   \n",
            "Marital_status   0.014426  -0.135318       0.004493    -0.032925   0.051966   \n",
            "Housing_type     0.024882  -0.001358      -0.174783     0.025516  -0.044552   \n",
            "Type_Occupation  0.049493  -0.082761       0.013962    -0.080690   0.040761   \n",
            "Annual_income    0.029888   0.209528       0.043927    -0.132934  -0.243989   \n",
            "Birthday_count   0.022778   0.144107      -0.124128     0.171432  -0.189547   \n",
            "Employed_days   -0.055396  -0.150658       0.100686    -0.309174   0.128430   \n",
            "Family_Members   0.016950   0.119851      -0.004458     0.068909  -0.064709   \n",
            "\n",
            "                 Marital_status  Housing_type  Type_Occupation  Annual_income  \\\n",
            "Ind_ID                 0.014426      0.024882         0.049493       0.029888   \n",
            "Car_Owner             -0.135318     -0.001358        -0.082761       0.209528   \n",
            "Propert_Owner          0.004493     -0.174783         0.013962       0.043927   \n",
            "Type_Income           -0.032925      0.025516        -0.080690      -0.132934   \n",
            "EDUCATION              0.051966     -0.044552         0.040761      -0.243989   \n",
            "Marital_status         1.000000     -0.009247         0.012650       0.003976   \n",
            "Housing_type          -0.009247      1.000000        -0.008105       0.012400   \n",
            "Type_Occupation        0.012650     -0.008105         1.000000       0.002530   \n",
            "Annual_income          0.003976      0.012400         0.002530       1.000000   \n",
            "Birthday_count        -0.115922      0.219229        -0.018406       0.110111   \n",
            "Employed_days          0.177073     -0.100222         0.037412      -0.158957   \n",
            "Family_Members        -0.536331      0.001763        -0.025355       0.050677   \n",
            "\n",
            "                 Birthday_count  Employed_days  Family_Members  \n",
            "Ind_ID                 0.022778      -0.055396        0.016950  \n",
            "Car_Owner              0.144107      -0.150658        0.119851  \n",
            "Propert_Owner         -0.124128       0.100686       -0.004458  \n",
            "Type_Income            0.171432      -0.309174        0.068909  \n",
            "EDUCATION             -0.189547       0.128430       -0.064709  \n",
            "Marital_status        -0.115922       0.177073       -0.536331  \n",
            "Housing_type           0.219229      -0.100222        0.001763  \n",
            "Type_Occupation       -0.018406       0.037412       -0.025355  \n",
            "Annual_income          0.110111      -0.158957        0.050677  \n",
            "Birthday_count         1.000000      -0.614352        0.264992  \n",
            "Employed_days         -0.614352       1.000000       -0.238705  \n",
            "Family_Members         0.264992      -0.238705        1.000000  \n"
          ]
        },
        {
          "output_type": "execute_result",
          "data": {
            "text/plain": [
              "<Axes: >"
            ]
          },
          "metadata": {},
          "execution_count": 132
        },
        {
          "output_type": "display_data",
          "data": {
            "text/plain": [
              "<Figure size 640x480 with 2 Axes>"
            ],
            "image/png": "[encoded data removed]"
          },
          "metadata": {}
        }
      ]
    },
    {
      "cell_type": "code",
      "source": [
        "sns.displot(data = data_sorted.Annual_income, kde = True)"
      ],
      "metadata": {
        "colab": {
          "base_uri": "https://localhost:8080/",
          "height": 523
        },
        "id": "ZH2Hkpkl3l02",
        "outputId": "6401209d-7599-4a81-a54b-a0c0044273a1"
      },
      "execution_count": 130,
      "outputs": [
        {
          "output_type": "execute_result",
          "data": {
            "text/plain": [
              "<seaborn.axisgrid.FacetGrid at 0x7bf1af2cac50>"
            ]
          },
          "metadata": {},
          "execution_count": 130
        },
        {
          "output_type": "display_data",
          "data": {
            "text/plain": [
              "<Figure size 500x500 with 1 Axes>"
            ],
            "image/png": "[encoded data removed]"
          },
          "metadata": {}
        }
      ]
    },
    {
      "cell_type": "code",
      "source": [
        "processed_data = pd.concat([data_sorted, labels], axis = 1, ignore_index = True,  keys = 'Ind_ID')\n",
        "col_names = ['Ind_ID', 'CarOwner', 'PropertyOwner', 'IncomeType', 'Education', 'MaritalStatus', 'HousingType', 'OccupationType', 'AnnualIncome', 'Birthday', 'DaysEmployed', 'FamilyMembers', 'Ind_ID2', 'Rejected?']\n",
        "processed_data.columns = col_names\n",
        "processed_data.drop(['Ind_ID', 'Ind_ID2'], axis = 1, inplace = True)\n",
        "print(processed_data.groupby('Rejected?').size())"
      ],
      "metadata": {
        "colab": {
          "base_uri": "https://localhost:8080/"
        },
        "id": "Rf-qjx3j4R-w",
        "outputId": "3a58314e-ddf4-4f99-ba92-c1dd82dd750e"
      },
      "execution_count": 176,
      "outputs": [
        {
          "output_type": "stream",
          "name": "stdout",
          "text": [
            "Rejected?\n",
            "0    1373\n",
            "1     175\n",
            "dtype: int64\n"
          ]
        }
      ]
    },
    {
      "cell_type": "code",
      "source": [
        "split = 0.8\n",
        "trueIndex = processed_data[processed_data['Rejected?'] == 1].index\n",
        "trueIndexTrain = trueIndex[:int(0.8*len(trueIndex))]\n",
        "trueIndexTest = trueIndex[int(0.8*len(trueIndex)):]\n",
        "\n",
        "falseIndex = processed_data[processed_data['Rejected?'] == 0].index.to_list()\n",
        "falseIndexTrain = falseIndex[:int(0.8*len(falseIndex))]\n",
        "falseIndexTest = falseIndex[int(0.8*len(falseIndex)):]\n"
      ],
      "metadata": {
        "id": "hJiTz3ZG9xya"
      },
      "execution_count": 190,
      "outputs": []
    },
    {
      "cell_type": "code",
      "source": [
        "split = int(0.8 * len(processed_data))\n",
        "df_train, df_test = pd.concat([processed_data.iloc[trueIndexTrain], processed_data.iloc[falseIndexTrain]], axis = 0) , pd.concat([processed_data.iloc[trueIndexTest], processed_data.iloc[falseIndexTest]], axis = 0)\n",
        "\n",
        "X_train, y_train = df_train.drop('Rejected?', axis = 1), df_train['Rejected?']\n",
        "X_test, y_test = df_test.drop('Rejected?', axis = 1), df_test['Rejected?']"
      ],
      "metadata": {
        "id": "GKOOEQYJ7NWr"
      },
      "execution_count": 191,
      "outputs": []
    },
    {
      "cell_type": "code",
      "source": [
        "tree = sklearn.tree.DecisionTreeClassifier().fit(X_train, y_train)\n",
        "\n",
        "tree_score = tree.score(X_train, y_train)\n",
        "y_pred_tree = tree.predict(X_test)\n",
        "\n",
        "print(f'The score is: {tree_score:.3f}')"
      ],
      "metadata": {
        "colab": {
          "base_uri": "https://localhost:8080/"
        },
        "id": "OKL4P4OW6IDf",
        "outputId": "a81249f8-fb2f-48c7-87e2-1da715b92bd4"
      },
      "execution_count": 203,
      "outputs": [
        {
          "output_type": "stream",
          "name": "stdout",
          "text": [
            "The score is: 0.996\n"
          ]
        }
      ]
    },
    {
      "cell_type": "code",
      "source": [
        "from sklearn.metrics import roc_curve, accuracy_score, recall_score\n",
        "\n",
        "recall = recall_score(y_test, y_pred_tree)\n",
        "print(f'Recall score is: {recall}')\n",
        "\n",
        "acc = accuracy_score(y_test, y_pred_tree)\n",
        "print(f'Accuracy score is: {acc}')\n",
        "\n",
        "\n",
        "fpr, tpr, thresholds = roc_curve(y_test, tree.predict_proba(X_test)[:, 1])\n",
        "sns.lineplot(x = fpr, y= tpr)\n",
        "\n",
        "\n",
        "# -------------------\n",
        "\n",
        "# Plot format\n",
        "sns.lineplot(x=[0, 1], y=[0, 1], linestyle='--')  # add red line\n",
        "plt.xlim([0.0, 1.0])  # limit x-axis between 0 and 1\n",
        "plt.ylim([0.0, 1.0])  # limit y-axis between 0 and 1\n",
        "plt.xlabel('False Positive Rate')  # lable for x axis\n",
        "plt.ylabel('True Positive Rate')  # lable for y axis\n",
        "plt.legend(loc='lower right')  # print legend in lower right corner\n",
        "plt.show()"
      ],
      "metadata": {
        "colab": {
          "base_uri": "https://localhost:8080/",
          "height": 507
        },
        "id": "xAtqf7668q6v",
        "outputId": "2e995cc2-f329-4a19-a0d8-a67f733c763c"
      },
      "execution_count": 204,
      "outputs": [
        {
          "output_type": "stream",
          "name": "stdout",
          "text": [
            "Recall score is: 0.2\n",
            "Accuracy score is: 0.8258064516129032\n"
          ]
        },
        {
          "output_type": "stream",
          "name": "stderr",
          "text": [
            "WARNING:matplotlib.legend:No artists with labels found to put in legend.  Note that artists whose label start with an underscore are ignored when legend() is called with no argument.\n"
          ]
        },
        {
          "output_type": "display_data",
          "data": {
            "text/plain": [
              "<Figure size 640x480 with 1 Axes>"
            ],
            "image/png": "[encoded data removed]"
          },
          "metadata": {}
        }
      ]
    }
  ]
}